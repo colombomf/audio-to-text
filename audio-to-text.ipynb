{
 "cells": [
  {
   "cell_type": "code",
   "execution_count": 11,
   "id": "58b77ded",
   "metadata": {},
   "outputs": [
    {
     "name": "stdout",
     "output_type": "stream",
     "text": [
      "MoviePy - Writing audio in temp_audio.wav\n"
     ]
    },
    {
     "name": "stderr",
     "output_type": "stream",
     "text": [
      "                                                                                                                       \r"
     ]
    },
    {
     "name": "stdout",
     "output_type": "stream",
     "text": [
      "MoviePy - Done.\n"
     ]
    },
    {
     "name": "stderr",
     "output_type": "stream",
     "text": [
      "Processing: 100%|█████████████████████████████████████████████████████████████████████| 3/3 [00:17<00:00,  5.91s/chunk]"
     ]
    },
    {
     "name": "stdout",
     "output_type": "stream",
     "text": [
      "Text extracted and saved to: extracted_text.txt\n"
     ]
    },
    {
     "name": "stderr",
     "output_type": "stream",
     "text": [
      "\n"
     ]
    }
   ],
   "source": [
    "import moviepy.editor as mp\n",
    "import speech_recognition as sr\n",
    "from tqdm import tqdm\n",
    "\n",
    "def extract_text_from_audio(file_path):\n",
    "    # Load the video file\n",
    "    clip = mp.VideoFileClip(file_path)\n",
    "    \n",
    "    # Extract the audio from the video\n",
    "    audio = clip.audio\n",
    "    \n",
    "    # Save the audio as a temporary file\n",
    "    audio_path = \"temp_audio.wav\"\n",
    "    audio.write_audiofile(audio_path)\n",
    "    \n",
    "    # Initialize the recognizer\n",
    "    r = sr.Recognizer()\n",
    "    \n",
    "    # Transcribe each chunk of audio\n",
    "    chunk_duration = 30  # Chunk duration in seconds\n",
    "    total_duration = clip.duration\n",
    "    chunks = int(total_duration / chunk_duration) + 1\n",
    "    \n",
    "    text = \"\"\n",
    "    \n",
    "    # Use tqdm to create a loading bar\n",
    "    with tqdm(total=chunks, desc=\"Processing\", unit=\"chunk\") as pbar:\n",
    "        for i in range(chunks):\n",
    "            start_time = i * chunk_duration\n",
    "            end_time = min((i + 1) * chunk_duration, total_duration)\n",
    "            \n",
    "            with sr.AudioFile(audio_path) as source:\n",
    "                audio = r.record(source, offset=start_time, duration=end_time - start_time)\n",
    "                chunk_text = r.recognize_google(audio)\n",
    "                text += chunk_text + \" \"\n",
    "            \n",
    "            pbar.update(1)  # Update the loading bar\n",
    "            \n",
    "    return text\n",
    "\n",
    "# Specify the file path\n",
    "file_path = \"thoreau-walden.mp4\"   #YOUR AUDIO FILE HERE\n",
    "\n",
    "# Call the function to extract text from the audio\n",
    "extracted_text = extract_text_from_audio(file_path)\n",
    "\n",
    "# Save the extracted text to a file\n",
    "output_file = \"extracted_text.txt\"\n",
    "with open(output_file, \"w\") as file:\n",
    "    file.write(extracted_text)\n",
    "\n",
    "print(\"Text extracted and saved to:\", output_file)"
   ]
  },
  {
   "cell_type": "code",
   "execution_count": null,
   "id": "433985e1",
   "metadata": {},
   "outputs": [],
   "source": []
  }
 ],
 "metadata": {
  "kernelspec": {
   "display_name": "Python 3 (ipykernel)",
   "language": "python",
   "name": "python3"
  },
  "language_info": {
   "codemirror_mode": {
    "name": "ipython",
    "version": 3
   },
   "file_extension": ".py",
   "mimetype": "text/x-python",
   "name": "python",
   "nbconvert_exporter": "python",
   "pygments_lexer": "ipython3",
   "version": "3.9.16"
  }
 },
 "nbformat": 4,
 "nbformat_minor": 5
}
